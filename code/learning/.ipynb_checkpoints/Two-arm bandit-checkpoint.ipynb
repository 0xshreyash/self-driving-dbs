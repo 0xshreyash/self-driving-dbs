{
 "cells": [
  {
   "cell_type": "code",
   "execution_count": 1,
   "metadata": {},
   "outputs": [],
   "source": [
    "import tensorflow as tf\n",
    "import numpy as np"
   ]
  },
  {
   "cell_type": "code",
   "execution_count": 2,
   "metadata": {},
   "outputs": [],
   "source": [
    "bandits = [0.2, 0, -0.2, -5.0]\n",
    "num_bandits = len(bandits)"
   ]
  },
  {
   "cell_type": "code",
   "execution_count": 3,
   "metadata": {},
   "outputs": [],
   "source": [
    "def pullBandit(bandit):\n",
    "    result = np.random.randn(1)\n",
    "    if result > bandit:\n",
    "        return 1\n",
    "    else:\n",
    "        return -1\n"
   ]
  },
  {
   "cell_type": "code",
   "execution_count": 4,
   "metadata": {},
   "outputs": [],
   "source": [
    "tf.reset_default_graph()\n",
    "weights = tf.Variable(tf.ones([num_bandits]))\n",
    "chosen_action = tf.argmax(weights, 0)\n",
    "\n",
    "#The next six lines e \n",
    "update = optimizer.minimize(loss)\n"
   ]
  },
  {
   "cell_type": "code",
   "execution_count": 10,
   "metadata": {},
   "outputs": [
    {
     "name": "stdout",
     "output_type": "stream",
     "text": [
      "WARNING:tensorflow:From <ipython-input-10-ce8b28dc89c0>:4: initialize_all_variables (from tensorflow.python.ops.variables) is deprecated and will be removed after 2017-03-02.\n",
      "Instructions for updating:\n",
      "Use `tf.global_variables_initializer` instead.\n",
      "Running reward for the 4 bandits: [ 1.  0.  0.  0.]\n",
      "Running reward for the 4 bandits: [ -1.   0.   1.  47.]\n",
      "Running reward for the 4 bandits: [ -2.   0.   2.  95.]\n",
      "Running reward for the 4 bandits: [  -2.    0.    1.  142.]\n",
      "Running reward for the 4 bandits: [  -2.   -2.    1.  188.]\n",
      "Running reward for the 4 bandits: [  -3.   -3.    1.  236.]\n",
      "Running reward for the 4 bandits: [  -3.   -3.    0.  283.]\n",
      "Running reward for the 4 bandits: [  -3.   -2.    0.  332.]\n",
      "Running reward for the 4 bandits: [  -3.   -2.    0.  380.]\n",
      "Running reward for the 4 bandits: [  -2.   -3.    0.  426.]\n",
      "Running reward for the 4 bandits: [   0.   -3.   -1.  473.]\n",
      "Running reward for the 4 bandits: [   0.   -2.   -1.  522.]\n",
      "Running reward for the 4 bandits: [   1.   -2.   -3.  567.]\n",
      "Running reward for the 4 bandits: [   0.   -2.   -3.  614.]\n",
      "Running reward for the 4 bandits: [   0.   -3.   -3.  659.]\n",
      "Running reward for the 4 bandits: [  -1.   -6.   -2.  702.]\n",
      "Running reward for the 4 bandits: [   0.   -5.   -2.  750.]\n",
      "Running reward for the 4 bandits: [  -2.   -6.   -1.  796.]\n",
      "Running reward for the 4 bandits: [  -2.   -6.   -1.  844.]\n",
      "Running reward for the 4 bandits: [   0.   -7.    1.  889.]\n",
      "The agent thinks bandit 4 is the most promising....\n",
      "...and it was right!\n"
     ]
    }
   ],
   "source": [
    "total_episodes = 1000\n",
    "total_reward = np.zeros(num_bandits)\n",
    "e = 0.1\n",
    "init = tf.initialize_all_variables()\n",
    "\n",
    "with tf.Session() as sess:\n",
    "    sess.run(init)\n",
    "    i = 0\n",
    "    while i < total_episodes:\n",
    "        if np.random.rand(1) < e:\n",
    "            action = np.random.randint(num_bandits) \n",
    "        else:\n",
    "            action = sess.run(chosen_action)\n",
    "        reward = pullBandit(bandits[action])\n",
    "        _, resp, ww = sess.run([update, responsible_weight, weights],\n",
    "                               feed_dict={reward_holder:[reward],action_holder:[action]})\n",
    "        total_reward[action] += reward\n",
    "        if i % 50 == 0:\n",
    "            print(\"Running reward for the \" + str(num_bandits) + \" bandits: \" + str(total_reward))\n",
    "        i += 1\n",
    "    print(\"The agent thinks bandit \" + str(np.argmax(ww)+1) + \" is the most promising....\")\n",
    "    \n",
    "    if np.argmax(ww) == np.argmax(-np.array(bandits)):\n",
    "        print(\"...and it was right!\")\n",
    "    else:\n",
    "        print(\"...and it was wrong!\")"
   ]
  },
  {
   "cell_type": "code",
   "execution_count": null,
   "metadata": {},
   "outputs": [],
   "source": []
  }
 ],
 "metadata": {
  "kernelspec": {
   "display_name": "Python 3",
   "language": "python",
   "name": "python3"
  },
  "language_info": {
   "codemirror_mode": {
    "name": "ipython",
    "version": 3
   },
   "file_extension": ".py",
   "mimetype": "text/x-python",
   "name": "python",
   "nbconvert_exporter": "python",
   "pygments_lexer": "ipython3",
   "version": "3.6.5"
  }
 },
 "nbformat": 4,
 "nbformat_minor": 2
}
